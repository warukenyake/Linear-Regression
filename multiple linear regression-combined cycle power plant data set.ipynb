{
 "cells": [
  {
   "cell_type": "raw",
   "id": "53b38aa8",
   "metadata": {},
   "source": [
    "Data is downloaded from ucl ml repository\n",
    "\n",
    "T-temperature in range (1.81 to 37.11)\n",
    "AP-ambient pressure in range (992.89 to 1033.30 millibar)\n",
    "RH-relative humidity in range (25.56% to 100.16%)\n",
    "V-exhaust vaccum in range (25.36-81.56 cm Hg)\n",
    "EP-net hourly electrical energy output in range (420.26-495.76 MW)"
   ]
  },
  {
   "cell_type": "markdown",
   "id": "98f564e2",
   "metadata": {},
   "source": [
    "# importing libraries"
   ]
  },
  {
   "cell_type": "code",
   "execution_count": 1,
   "id": "1cdfb2fe",
   "metadata": {},
   "outputs": [],
   "source": [
    "import pandas as pd\n",
    "import numpy as np\n"
   ]
  },
  {
   "cell_type": "code",
   "execution_count": 2,
   "id": "017e9fd6",
   "metadata": {},
   "outputs": [
    {
     "data": {
      "text/plain": [
       "<function nt.listdir(path=None)>"
      ]
     },
     "execution_count": 2,
     "metadata": {},
     "output_type": "execute_result"
    }
   ],
   "source": [
    "import os\n",
    "try:\n",
    "    os.chdir(\"Desktop\")\n",
    "except:\n",
    "    pass\n",
    "os.listdir\n",
    "    \n",
    "    "
   ]
  },
  {
   "cell_type": "markdown",
   "id": "96a71d9f",
   "metadata": {},
   "source": [
    "# importing dataset"
   ]
  },
  {
   "cell_type": "code",
   "execution_count": 3,
   "id": "1e7986fe",
   "metadata": {},
   "outputs": [
    {
     "data": {
      "text/html": [
       "<style type=\"text/css\">\n",
       "#T_bc865_row0_col0, #T_bc865_row2_col2, #T_bc865_row2_col3, #T_bc865_row2_col4, #T_bc865_row4_col1 {\n",
       "  background-color: #fff7fb;\n",
       "  color: #000000;\n",
       "}\n",
       "#T_bc865_row0_col1, #T_bc865_row3_col2 {\n",
       "  background-color: #fef6fb;\n",
       "  color: #000000;\n",
       "}\n",
       "#T_bc865_row0_col2 {\n",
       "  background-color: #a8bedc;\n",
       "  color: #000000;\n",
       "}\n",
       "#T_bc865_row0_col3 {\n",
       "  background-color: #045b8e;\n",
       "  color: #f1f1f1;\n",
       "}\n",
       "#T_bc865_row0_col4, #T_bc865_row1_col1, #T_bc865_row2_col0, #T_bc865_row4_col2, #T_bc865_row4_col3 {\n",
       "  background-color: #023858;\n",
       "  color: #f1f1f1;\n",
       "}\n",
       "#T_bc865_row1_col0 {\n",
       "  background-color: #1278b4;\n",
       "  color: #f1f1f1;\n",
       "}\n",
       "#T_bc865_row1_col2 {\n",
       "  background-color: #91b5d6;\n",
       "  color: #000000;\n",
       "}\n",
       "#T_bc865_row1_col3 {\n",
       "  background-color: #4a98c5;\n",
       "  color: #f1f1f1;\n",
       "}\n",
       "#T_bc865_row1_col4 {\n",
       "  background-color: #e3e0ee;\n",
       "  color: #000000;\n",
       "}\n",
       "#T_bc865_row2_col1 {\n",
       "  background-color: #034f7d;\n",
       "  color: #f1f1f1;\n",
       "}\n",
       "#T_bc865_row3_col0 {\n",
       "  background-color: #73a9cf;\n",
       "  color: #f1f1f1;\n",
       "}\n",
       "#T_bc865_row3_col1 {\n",
       "  background-color: #71a8ce;\n",
       "  color: #f1f1f1;\n",
       "}\n",
       "#T_bc865_row3_col3 {\n",
       "  background-color: #348ebf;\n",
       "  color: #f1f1f1;\n",
       "}\n",
       "#T_bc865_row3_col4 {\n",
       "  background-color: #b1c2de;\n",
       "  color: #000000;\n",
       "}\n",
       "#T_bc865_row4_col0 {\n",
       "  background-color: #e4e1ef;\n",
       "  color: #000000;\n",
       "}\n",
       "#T_bc865_row4_col4 {\n",
       "  background-color: #3b92c1;\n",
       "  color: #f1f1f1;\n",
       "}\n",
       "</style>\n",
       "<table id=\"T_bc865\">\n",
       "  <thead>\n",
       "    <tr>\n",
       "      <th class=\"blank level0\" >&nbsp;</th>\n",
       "      <th id=\"T_bc865_level0_col0\" class=\"col_heading level0 col0\" >AT</th>\n",
       "      <th id=\"T_bc865_level0_col1\" class=\"col_heading level0 col1\" >V</th>\n",
       "      <th id=\"T_bc865_level0_col2\" class=\"col_heading level0 col2\" >AP</th>\n",
       "      <th id=\"T_bc865_level0_col3\" class=\"col_heading level0 col3\" >RH</th>\n",
       "      <th id=\"T_bc865_level0_col4\" class=\"col_heading level0 col4\" >PE</th>\n",
       "    </tr>\n",
       "  </thead>\n",
       "  <tbody>\n",
       "    <tr>\n",
       "      <th id=\"T_bc865_level0_row0\" class=\"row_heading level0 row0\" >0</th>\n",
       "      <td id=\"T_bc865_row0_col0\" class=\"data row0 col0\" >8.340000</td>\n",
       "      <td id=\"T_bc865_row0_col1\" class=\"data row0 col1\" >40.770000</td>\n",
       "      <td id=\"T_bc865_row0_col2\" class=\"data row0 col2\" >1010.840000</td>\n",
       "      <td id=\"T_bc865_row0_col3\" class=\"data row0 col3\" >90.010000</td>\n",
       "      <td id=\"T_bc865_row0_col4\" class=\"data row0 col4\" >480.480000</td>\n",
       "    </tr>\n",
       "    <tr>\n",
       "      <th id=\"T_bc865_level0_row1\" class=\"row_heading level0 row1\" >1</th>\n",
       "      <td id=\"T_bc865_row1_col0\" class=\"data row1 col0\" >23.640000</td>\n",
       "      <td id=\"T_bc865_row1_col1\" class=\"data row1 col1\" >58.490000</td>\n",
       "      <td id=\"T_bc865_row1_col2\" class=\"data row1 col2\" >1011.400000</td>\n",
       "      <td id=\"T_bc865_row1_col3\" class=\"data row1 col3\" >74.200000</td>\n",
       "      <td id=\"T_bc865_row1_col4\" class=\"data row1 col4\" >445.750000</td>\n",
       "    </tr>\n",
       "    <tr>\n",
       "      <th id=\"T_bc865_level0_row2\" class=\"row_heading level0 row2\" >2</th>\n",
       "      <td id=\"T_bc865_row2_col0\" class=\"data row2 col0\" >29.740000</td>\n",
       "      <td id=\"T_bc865_row2_col1\" class=\"data row2 col1\" >56.900000</td>\n",
       "      <td id=\"T_bc865_row2_col2\" class=\"data row2 col2\" >1007.150000</td>\n",
       "      <td id=\"T_bc865_row2_col3\" class=\"data row2 col3\" >41.910000</td>\n",
       "      <td id=\"T_bc865_row2_col4\" class=\"data row2 col4\" >438.760000</td>\n",
       "    </tr>\n",
       "    <tr>\n",
       "      <th id=\"T_bc865_level0_row3\" class=\"row_heading level0 row3\" >3</th>\n",
       "      <td id=\"T_bc865_row3_col0\" class=\"data row3 col0\" >19.070000</td>\n",
       "      <td id=\"T_bc865_row3_col1\" class=\"data row3 col1\" >49.690000</td>\n",
       "      <td id=\"T_bc865_row3_col2\" class=\"data row3 col2\" >1007.220000</td>\n",
       "      <td id=\"T_bc865_row3_col3\" class=\"data row3 col3\" >76.790000</td>\n",
       "      <td id=\"T_bc865_row3_col4\" class=\"data row3 col4\" >453.090000</td>\n",
       "    </tr>\n",
       "    <tr>\n",
       "      <th id=\"T_bc865_level0_row4\" class=\"row_heading level0 row4\" >4</th>\n",
       "      <td id=\"T_bc865_row4_col0\" class=\"data row4 col0\" >11.800000</td>\n",
       "      <td id=\"T_bc865_row4_col1\" class=\"data row4 col1\" >40.660000</td>\n",
       "      <td id=\"T_bc865_row4_col2\" class=\"data row4 col2\" >1017.130000</td>\n",
       "      <td id=\"T_bc865_row4_col3\" class=\"data row4 col3\" >97.200000</td>\n",
       "      <td id=\"T_bc865_row4_col4\" class=\"data row4 col4\" >464.430000</td>\n",
       "    </tr>\n",
       "  </tbody>\n",
       "</table>\n"
      ],
      "text/plain": [
       "<pandas.io.formats.style.Styler at 0x2edcaa692b0>"
      ]
     },
     "execution_count": 3,
     "metadata": {},
     "output_type": "execute_result"
    }
   ],
   "source": [
    "df=pd.read_csv(\"CCPD.csv\")\n",
    "df.head().style.background_gradient(axis=0)"
   ]
  },
  {
   "cell_type": "markdown",
   "id": "a3280578",
   "metadata": {},
   "source": [
    "# Define x and y"
   ]
  },
  {
   "cell_type": "code",
   "execution_count": 4,
   "id": "3fabe8a5",
   "metadata": {},
   "outputs": [],
   "source": [
    "x=df.drop(['PE'],axis=1).values\n",
    "y=df['PE'].values"
   ]
  },
  {
   "cell_type": "code",
   "execution_count": 5,
   "id": "ce0d5093",
   "metadata": {},
   "outputs": [
    {
     "data": {
      "text/plain": [
       "array([[   8.34,   40.77, 1010.84,   90.01],\n",
       "       [  23.64,   58.49, 1011.4 ,   74.2 ],\n",
       "       [  29.74,   56.9 , 1007.15,   41.91],\n",
       "       ...,\n",
       "       [  15.99,   43.34, 1014.2 ,   78.66],\n",
       "       [  17.65,   59.87, 1018.58,   94.65],\n",
       "       [  23.68,   51.3 , 1011.86,   71.24]])"
      ]
     },
     "execution_count": 5,
     "metadata": {},
     "output_type": "execute_result"
    }
   ],
   "source": [
    "x"
   ]
  },
  {
   "cell_type": "code",
   "execution_count": 6,
   "id": "7570c8ad",
   "metadata": {},
   "outputs": [
    {
     "data": {
      "text/plain": [
       "array([480.48, 445.75, 438.76, ..., 465.96, 450.93, 451.67])"
      ]
     },
     "execution_count": 6,
     "metadata": {},
     "output_type": "execute_result"
    }
   ],
   "source": [
    "y"
   ]
  },
  {
   "cell_type": "markdown",
   "id": "ddc58cce",
   "metadata": {},
   "source": [
    "# split dataset in training set and test set "
   ]
  },
  {
   "cell_type": "code",
   "execution_count": 7,
   "id": "3b0a9e21",
   "metadata": {},
   "outputs": [],
   "source": [
    "from sklearn.model_selection import train_test_split\n",
    "x_train,x_test,y_train,y_test=train_test_split(x,y,test_size=0.25,random_state=42)"
   ]
  },
  {
   "cell_type": "markdown",
   "id": "46c8b70e",
   "metadata": {},
   "source": [
    "# Train model on the training set"
   ]
  },
  {
   "cell_type": "code",
   "execution_count": 8,
   "id": "ca023931",
   "metadata": {},
   "outputs": [
    {
     "data": {
      "text/plain": [
       "LinearRegression()"
      ]
     },
     "execution_count": 8,
     "metadata": {},
     "output_type": "execute_result"
    }
   ],
   "source": [
    "from sklearn.linear_model import LinearRegression\n",
    "model=LinearRegression()\n",
    "model.fit(x_train,y_train)"
   ]
  },
  {
   "cell_type": "markdown",
   "id": "bc6534f5",
   "metadata": {},
   "source": [
    "# predict the test set results"
   ]
  },
  {
   "cell_type": "code",
   "execution_count": 9,
   "id": "8353acc1",
   "metadata": {},
   "outputs": [
    {
     "name": "stdout",
     "output_type": "stream",
     "text": [
      "[435.9108459  437.47373085 461.33293349 ... 434.64885808 438.97145247\n",
      " 479.04986975]\n"
     ]
    }
   ],
   "source": [
    "y_pred=model.predict(x_test)\n",
    "print(y_pred)"
   ]
  },
  {
   "cell_type": "code",
   "execution_count": 10,
   "id": "dbbcaca2",
   "metadata": {},
   "outputs": [
    {
     "data": {
      "text/plain": [
       "array([477.16154758])"
      ]
     },
     "execution_count": 10,
     "metadata": {},
     "output_type": "execute_result"
    }
   ],
   "source": [
    "model.predict([[8.34,40.77,1010.84,90.01]])"
   ]
  },
  {
   "cell_type": "markdown",
   "id": "9444ad77",
   "metadata": {},
   "source": [
    "# Evaluate the model"
   ]
  },
  {
   "cell_type": "code",
   "execution_count": 11,
   "id": "49a372af",
   "metadata": {},
   "outputs": [
    {
     "data": {
      "text/plain": [
       "0.9303315024744816"
      ]
     },
     "execution_count": 11,
     "metadata": {},
     "output_type": "execute_result"
    }
   ],
   "source": [
    "from sklearn.metrics import r2_score\n",
    "r2_score(y_test,y_pred)"
   ]
  },
  {
   "cell_type": "code",
   "execution_count": 12,
   "id": "30c3d259",
   "metadata": {},
   "outputs": [
    {
     "data": {
      "text/plain": [
       "0.9303315024744816"
      ]
     },
     "execution_count": 12,
     "metadata": {},
     "output_type": "execute_result"
    }
   ],
   "source": [
    "model.score(x_test,y_test)"
   ]
  },
  {
   "cell_type": "markdown",
   "id": "cb1c1a50",
   "metadata": {},
   "source": [
    "# visualize the predicted results"
   ]
  },
  {
   "cell_type": "code",
   "execution_count": 23,
   "id": "a89a35bf",
   "metadata": {},
   "outputs": [
    {
     "data": {
      "image/png": "[encoded data removed]",
      "text/plain": [
       "<Figure size 720x576 with 1 Axes>"
      ]
     },
     "metadata": {
      "needs_background": "light"
     },
     "output_type": "display_data"
    }
   ],
   "source": [
    "import matplotlib.pyplot as plt\n",
    "plt.figure(figsize=(10,8))\n",
    "plt.scatter(y_test,y_pred)\n",
    "plt.xlabel('Actual')\n",
    "plt.ylabel('Predicted')\n",
    "plt.title('Actual vs predicted values')\n",
    "plt.show()"
   ]
  },
  {
   "cell_type": "markdown",
   "id": "b5cb920b",
   "metadata": {},
   "source": [
    "# predicted values"
   ]
  },
  {
   "cell_type": "code",
   "execution_count": 22,
   "id": "85af3f5d",
   "metadata": {},
   "outputs": [
    {
     "data": {
      "text/html": [
       "<div>\n",
       "<style scoped>\n",
       "    .dataframe tbody tr th:only-of-type {\n",
       "        vertical-align: middle;\n",
       "    }\n",
       "\n",
       "    .dataframe tbody tr th {\n",
       "        vertical-align: top;\n",
       "    }\n",
       "\n",
       "    .dataframe thead th {\n",
       "        text-align: right;\n",
       "    }\n",
       "</style>\n",
       "<table border=\"1\" class=\"dataframe\">\n",
       "  <thead>\n",
       "    <tr style=\"text-align: right;\">\n",
       "      <th></th>\n",
       "      <th>actual values</th>\n",
       "      <th>predicted values</th>\n",
       "      <th>difference</th>\n",
       "    </tr>\n",
       "  </thead>\n",
       "  <tbody>\n",
       "    <tr>\n",
       "      <th>0</th>\n",
       "      <td>433.27</td>\n",
       "      <td>435.910846</td>\n",
       "      <td>-2.640846</td>\n",
       "    </tr>\n",
       "    <tr>\n",
       "      <th>1</th>\n",
       "      <td>438.16</td>\n",
       "      <td>437.473731</td>\n",
       "      <td>0.686269</td>\n",
       "    </tr>\n",
       "    <tr>\n",
       "      <th>2</th>\n",
       "      <td>458.42</td>\n",
       "      <td>461.332933</td>\n",
       "      <td>-2.912933</td>\n",
       "    </tr>\n",
       "    <tr>\n",
       "      <th>3</th>\n",
       "      <td>480.82</td>\n",
       "      <td>476.114491</td>\n",
       "      <td>4.705509</td>\n",
       "    </tr>\n",
       "    <tr>\n",
       "      <th>4</th>\n",
       "      <td>441.41</td>\n",
       "      <td>435.880345</td>\n",
       "      <td>5.529655</td>\n",
       "    </tr>\n",
       "    <tr>\n",
       "      <th>5</th>\n",
       "      <td>454.75</td>\n",
       "      <td>459.296459</td>\n",
       "      <td>-4.546459</td>\n",
       "    </tr>\n",
       "    <tr>\n",
       "      <th>6</th>\n",
       "      <td>483.26</td>\n",
       "      <td>481.178158</td>\n",
       "      <td>2.081842</td>\n",
       "    </tr>\n",
       "    <tr>\n",
       "      <th>7</th>\n",
       "      <td>478.25</td>\n",
       "      <td>479.054261</td>\n",
       "      <td>-0.804261</td>\n",
       "    </tr>\n",
       "    <tr>\n",
       "      <th>8</th>\n",
       "      <td>434.16</td>\n",
       "      <td>439.510954</td>\n",
       "      <td>-5.350954</td>\n",
       "    </tr>\n",
       "    <tr>\n",
       "      <th>9</th>\n",
       "      <td>470.66</td>\n",
       "      <td>469.964813</td>\n",
       "      <td>0.695187</td>\n",
       "    </tr>\n",
       "    <tr>\n",
       "      <th>10</th>\n",
       "      <td>450.86</td>\n",
       "      <td>448.273100</td>\n",
       "      <td>2.586900</td>\n",
       "    </tr>\n",
       "    <tr>\n",
       "      <th>11</th>\n",
       "      <td>455.79</td>\n",
       "      <td>455.094369</td>\n",
       "      <td>0.695631</td>\n",
       "    </tr>\n",
       "    <tr>\n",
       "      <th>12</th>\n",
       "      <td>489.59</td>\n",
       "      <td>485.631920</td>\n",
       "      <td>3.958080</td>\n",
       "    </tr>\n",
       "    <tr>\n",
       "      <th>13</th>\n",
       "      <td>471.79</td>\n",
       "      <td>471.462124</td>\n",
       "      <td>0.327876</td>\n",
       "    </tr>\n",
       "    <tr>\n",
       "      <th>14</th>\n",
       "      <td>480.63</td>\n",
       "      <td>475.574266</td>\n",
       "      <td>5.055734</td>\n",
       "    </tr>\n",
       "    <tr>\n",
       "      <th>15</th>\n",
       "      <td>432.97</td>\n",
       "      <td>435.167649</td>\n",
       "      <td>-2.197649</td>\n",
       "    </tr>\n",
       "    <tr>\n",
       "      <th>16</th>\n",
       "      <td>473.34</td>\n",
       "      <td>476.789310</td>\n",
       "      <td>-3.449310</td>\n",
       "    </tr>\n",
       "    <tr>\n",
       "      <th>17</th>\n",
       "      <td>432.25</td>\n",
       "      <td>435.112937</td>\n",
       "      <td>-2.862937</td>\n",
       "    </tr>\n",
       "    <tr>\n",
       "      <th>18</th>\n",
       "      <td>429.80</td>\n",
       "      <td>433.225038</td>\n",
       "      <td>-3.425038</td>\n",
       "    </tr>\n",
       "    <tr>\n",
       "      <th>19</th>\n",
       "      <td>450.57</td>\n",
       "      <td>451.932416</td>\n",
       "      <td>-1.362416</td>\n",
       "    </tr>\n",
       "  </tbody>\n",
       "</table>\n",
       "</div>"
      ],
      "text/plain": [
       "    actual values  predicted values  difference\n",
       "0          433.27        435.910846   -2.640846\n",
       "1          438.16        437.473731    0.686269\n",
       "2          458.42        461.332933   -2.912933\n",
       "3          480.82        476.114491    4.705509\n",
       "4          441.41        435.880345    5.529655\n",
       "5          454.75        459.296459   -4.546459\n",
       "6          483.26        481.178158    2.081842\n",
       "7          478.25        479.054261   -0.804261\n",
       "8          434.16        439.510954   -5.350954\n",
       "9          470.66        469.964813    0.695187\n",
       "10         450.86        448.273100    2.586900\n",
       "11         455.79        455.094369    0.695631\n",
       "12         489.59        485.631920    3.958080\n",
       "13         471.79        471.462124    0.327876\n",
       "14         480.63        475.574266    5.055734\n",
       "15         432.97        435.167649   -2.197649\n",
       "16         473.34        476.789310   -3.449310\n",
       "17         432.25        435.112937   -2.862937\n",
       "18         429.80        433.225038   -3.425038\n",
       "19         450.57        451.932416   -1.362416"
      ]
     },
     "execution_count": 22,
     "metadata": {},
     "output_type": "execute_result"
    }
   ],
   "source": [
    "y_pred_df=pd.DataFrame({'actual values':y_test,'predicted values':y_pred,'difference':y_test-y_pred})\n",
    "y_pred_df.head(20)"
   ]
  },
  {
   "cell_type": "code",
   "execution_count": 21,
   "id": "1f712094",
   "metadata": {},
   "outputs": [
    {
     "data": {
      "text/plain": [
       "<AxesSubplot:>"
      ]
     },
     "execution_count": 21,
     "metadata": {},
     "output_type": "execute_result"
    },
    {
     "data": {
      "image/png": "[encoded data removed]",
      "text/plain": [
       "<Figure size 432x288 with 1 Axes>"
      ]
     },
     "metadata": {
      "needs_background": "light"
     },
     "output_type": "display_data"
    }
   ],
   "source": [
    "import seaborn as sns\n",
    "difference=y_test-y_pred\n",
    "sns.scatterplot(x=y_test,\n",
    "               y=y_pred,\n",
    "               hue='difference',\n",
    "               data= y_pred_df)\n"
   ]
  },
  {
   "cell_type": "code",
   "execution_count": null,
   "id": "90508609",
   "metadata": {},
   "outputs": [],
   "source": []
  },
  {
   "cell_type": "code",
   "execution_count": null,
   "id": "5d3d5f08",
   "metadata": {},
   "outputs": [],
   "source": []
  }
 ],
 "metadata": {
  "kernelspec": {
   "display_name": "Python 3 (ipykernel)",
   "language": "python",
   "name": "python3"
  },
  "language_info": {
   "codemirror_mode": {
    "name": "ipython",
    "version": 3
   },
   "file_extension": ".py",
   "mimetype": "text/x-python",
   "name": "python",
   "nbconvert_exporter": "python",
   "pygments_lexer": "ipython3",
   "version": "3.9.12"
  }
 },
 "nbformat": 4,
 "nbformat_minor": 5
}
